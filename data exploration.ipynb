{
 "cells": [
  {
   "cell_type": "code",
   "execution_count": 2,
   "metadata": {},
   "outputs": [
    {
     "name": "stderr",
     "output_type": "stream",
     "text": [
      "c:\\ProgramData\\Anaconda3\\lib\\site-packages\\IPython\\core\\interactiveshell.py:3444: DtypeWarning: Columns (3) have mixed types.Specify dtype option on import or set low_memory=False.\n",
      "  exec(code_obj, self.user_global_ns, self.user_ns)\n"
     ]
    },
    {
     "data": {
      "text/html": [
       "<div>\n",
       "<style scoped>\n",
       "    .dataframe tbody tr th:only-of-type {\n",
       "        vertical-align: middle;\n",
       "    }\n",
       "\n",
       "    .dataframe tbody tr th {\n",
       "        vertical-align: top;\n",
       "    }\n",
       "\n",
       "    .dataframe thead th {\n",
       "        text-align: right;\n",
       "    }\n",
       "</style>\n",
       "<table border=\"1\" class=\"dataframe\">\n",
       "  <thead>\n",
       "    <tr style=\"text-align: right;\">\n",
       "      <th></th>\n",
       "      <th>track_id</th>\n",
       "      <th>race_date</th>\n",
       "      <th>race_number</th>\n",
       "      <th>program_number</th>\n",
       "      <th>trakus_index</th>\n",
       "      <th>latitude</th>\n",
       "      <th>longitude</th>\n",
       "      <th>distance_id</th>\n",
       "      <th>course_type</th>\n",
       "      <th>track_condition</th>\n",
       "      <th>run_up_distance</th>\n",
       "      <th>race_type</th>\n",
       "      <th>purse</th>\n",
       "      <th>post_time</th>\n",
       "      <th>weight_carried</th>\n",
       "      <th>jockey</th>\n",
       "      <th>odds</th>\n",
       "    </tr>\n",
       "  </thead>\n",
       "  <tbody>\n",
       "    <tr>\n",
       "      <th>0</th>\n",
       "      <td>AQU</td>\n",
       "      <td>2019-01-01</td>\n",
       "      <td>9</td>\n",
       "      <td>6</td>\n",
       "      <td>72</td>\n",
       "      <td>40.672902</td>\n",
       "      <td>-73.827607</td>\n",
       "      <td>600</td>\n",
       "      <td>D</td>\n",
       "      <td>GD</td>\n",
       "      <td>48</td>\n",
       "      <td>CLM</td>\n",
       "      <td>25000</td>\n",
       "      <td>420</td>\n",
       "      <td>120</td>\n",
       "      <td>Andre Shivnarine Worrie</td>\n",
       "      <td>2090</td>\n",
       "    </tr>\n",
       "    <tr>\n",
       "      <th>1</th>\n",
       "      <td>AQU</td>\n",
       "      <td>2019-01-01</td>\n",
       "      <td>9</td>\n",
       "      <td>6</td>\n",
       "      <td>73</td>\n",
       "      <td>40.672946</td>\n",
       "      <td>-73.827587</td>\n",
       "      <td>600</td>\n",
       "      <td>D</td>\n",
       "      <td>GD</td>\n",
       "      <td>48</td>\n",
       "      <td>CLM</td>\n",
       "      <td>25000</td>\n",
       "      <td>420</td>\n",
       "      <td>120</td>\n",
       "      <td>Andre Shivnarine Worrie</td>\n",
       "      <td>2090</td>\n",
       "    </tr>\n",
       "    <tr>\n",
       "      <th>2</th>\n",
       "      <td>AQU</td>\n",
       "      <td>2019-01-01</td>\n",
       "      <td>9</td>\n",
       "      <td>6</td>\n",
       "      <td>74</td>\n",
       "      <td>40.672990</td>\n",
       "      <td>-73.827568</td>\n",
       "      <td>600</td>\n",
       "      <td>D</td>\n",
       "      <td>GD</td>\n",
       "      <td>48</td>\n",
       "      <td>CLM</td>\n",
       "      <td>25000</td>\n",
       "      <td>420</td>\n",
       "      <td>120</td>\n",
       "      <td>Andre Shivnarine Worrie</td>\n",
       "      <td>2090</td>\n",
       "    </tr>\n",
       "    <tr>\n",
       "      <th>3</th>\n",
       "      <td>AQU</td>\n",
       "      <td>2019-01-01</td>\n",
       "      <td>9</td>\n",
       "      <td>6</td>\n",
       "      <td>63</td>\n",
       "      <td>40.672510</td>\n",
       "      <td>-73.827781</td>\n",
       "      <td>600</td>\n",
       "      <td>D</td>\n",
       "      <td>GD</td>\n",
       "      <td>48</td>\n",
       "      <td>CLM</td>\n",
       "      <td>25000</td>\n",
       "      <td>420</td>\n",
       "      <td>120</td>\n",
       "      <td>Andre Shivnarine Worrie</td>\n",
       "      <td>2090</td>\n",
       "    </tr>\n",
       "    <tr>\n",
       "      <th>4</th>\n",
       "      <td>AQU</td>\n",
       "      <td>2019-01-01</td>\n",
       "      <td>9</td>\n",
       "      <td>6</td>\n",
       "      <td>64</td>\n",
       "      <td>40.672553</td>\n",
       "      <td>-73.827762</td>\n",
       "      <td>600</td>\n",
       "      <td>D</td>\n",
       "      <td>GD</td>\n",
       "      <td>48</td>\n",
       "      <td>CLM</td>\n",
       "      <td>25000</td>\n",
       "      <td>420</td>\n",
       "      <td>120</td>\n",
       "      <td>Andre Shivnarine Worrie</td>\n",
       "      <td>2090</td>\n",
       "    </tr>\n",
       "  </tbody>\n",
       "</table>\n",
       "</div>"
      ],
      "text/plain": [
       "  track_id   race_date  race_number program_number  trakus_index   latitude  \\\n",
       "0      AQU  2019-01-01            9            6              72  40.672902   \n",
       "1      AQU  2019-01-01            9            6              73  40.672946   \n",
       "2      AQU  2019-01-01            9            6              74  40.672990   \n",
       "3      AQU  2019-01-01            9            6              63  40.672510   \n",
       "4      AQU  2019-01-01            9            6              64  40.672553   \n",
       "\n",
       "   longitude  distance_id course_type track_condition  run_up_distance  \\\n",
       "0 -73.827607          600           D             GD                48   \n",
       "1 -73.827587          600           D             GD                48   \n",
       "2 -73.827568          600           D             GD                48   \n",
       "3 -73.827781          600           D             GD                48   \n",
       "4 -73.827762          600           D             GD                48   \n",
       "\n",
       "  race_type  purse  post_time  weight_carried                   jockey  odds  \n",
       "0       CLM  25000        420             120  Andre Shivnarine Worrie  2090  \n",
       "1       CLM  25000        420             120  Andre Shivnarine Worrie  2090  \n",
       "2       CLM  25000        420             120  Andre Shivnarine Worrie  2090  \n",
       "3       CLM  25000        420             120  Andre Shivnarine Worrie  2090  \n",
       "4       CLM  25000        420             120  Andre Shivnarine Worrie  2090  "
      ]
     },
     "execution_count": 2,
     "metadata": {},
     "output_type": "execute_result"
    }
   ],
   "source": [
    "# importing libraries\n",
    "import pandas as pd\n",
    "import numpy as np\n",
    "import matplotlib.pyplot as plt\n",
    "import seaborn as sns\n",
    "\n",
    "\n",
    "# importing the data\n",
    "derby_data = pd.read_csv('nyra_2019_complete.csv')\n",
    "derby_data.head()\n"
   ]
  },
  {
   "cell_type": "code",
   "execution_count": 5,
   "metadata": {},
   "outputs": [
    {
     "data": {
      "text/plain": [
       "(5228430, 17)"
      ]
     },
     "execution_count": 5,
     "metadata": {},
     "output_type": "execute_result"
    }
   ],
   "source": [
    "# checking shape of the data\n",
    "derby_data.shape"
   ]
  },
  {
   "cell_type": "code",
   "execution_count": 9,
   "metadata": {},
   "outputs": [
    {
     "data": {
      "text/plain": [
       "track_id           0\n",
       "race_date          0\n",
       "race_number        0\n",
       "program_number     0\n",
       "trakus_index       0\n",
       "latitude           0\n",
       "longitude          0\n",
       "distance_id        0\n",
       "course_type        0\n",
       "track_condition    0\n",
       "run_up_distance    0\n",
       "race_type          0\n",
       "purse              0\n",
       "post_time          0\n",
       "weight_carried     0\n",
       "jockey             0\n",
       "odds               0\n",
       "dtype: int64"
      ]
     },
     "execution_count": 9,
     "metadata": {},
     "output_type": "execute_result"
    }
   ],
   "source": [
    "# checking for null values\n",
    "derby_data.isnull().sum()"
   ]
  },
  {
   "cell_type": "code",
   "execution_count": 12,
   "metadata": {},
   "outputs": [
    {
     "data": {
      "text/plain": [
       "<AxesSubplot:>"
      ]
     },
     "execution_count": 12,
     "metadata": {},
     "output_type": "execute_result"
    },
    {
     "data": {
      "image/png": "[encoded data removed]",
      "text/plain": [
       "<Figure size 432x288 with 2 Axes>"
      ]
     },
     "metadata": {
      "needs_background": "light"
     },
     "output_type": "display_data"
    }
   ],
   "source": [
    "# heatmap of correlation\n",
    "sns.heatmap(derby_data.corr(), annot = False)"
   ]
  },
  {
   "cell_type": "code",
   "execution_count": 24,
   "metadata": {},
   "outputs": [
    {
     "data": {
      "text/plain": [
       "<AxesSubplot:xlabel='track_id', ylabel='count'>"
      ]
     },
     "execution_count": 24,
     "metadata": {},
     "output_type": "execute_result"
    },
    {
     "data": {
      "image/png": "[encoded data removed]",
      "text/plain": [
       "<Figure size 432x288 with 1 Axes>"
      ]
     },
     "metadata": {
      "needs_background": "light"
     },
     "output_type": "display_data"
    }
   ],
   "source": [
    "# barplot of the frequency of each variable in track_id\n",
    "sns.countplot(x = 'track_id', data = derby_data, palette = 'hls')\n"
   ]
  },
  {
   "cell_type": "code",
   "execution_count": 25,
   "metadata": {},
   "outputs": [
    {
     "data": {
      "text/plain": [
       "<AxesSubplot:xlabel='track_condition', ylabel='count'>"
      ]
     },
     "execution_count": 25,
     "metadata": {},
     "output_type": "execute_result"
    },
    {
     "data": {
      "image/png": "[encoded data removed]",
      "text/plain": [
       "<Figure size 432x288 with 1 Axes>"
      ]
     },
     "metadata": {
      "needs_background": "light"
     },
     "output_type": "display_data"
    }
   ],
   "source": [
    "# barplot of the frequency of each variable in track_condition \n",
    "sns.countplot(x = 'track_condition', data = derby_data, palette = 'hls')"
   ]
  }
 ],
 "metadata": {
  "kernelspec": {
   "display_name": "Python 3.9.7 ('base')",
   "language": "python",
   "name": "python3"
  },
  "language_info": {
   "codemirror_mode": {
    "name": "ipython",
    "version": 3
   },
   "file_extension": ".py",
   "mimetype": "text/x-python",
   "name": "python",
   "nbconvert_exporter": "python",
   "pygments_lexer": "ipython3",
   "version": "3.9.7"
  },
  "orig_nbformat": 4,
  "vscode": {
   "interpreter": {
    "hash": "ad2bdc8ecc057115af97d19610ffacc2b4e99fae6737bb82f5d7fb13d2f2c186"
   }
  }
 },
 "nbformat": 4,
 "nbformat_minor": 2
}
